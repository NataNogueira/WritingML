{
 "cells": [
  {
   "cell_type": "code",
   "execution_count": 1,
   "metadata": {},
   "outputs": [],
   "source": [
    "# Bibliotecas que serão utilizadas neste notebook\n",
    "from sklearn.feature_extraction.text import CountVectorizer\n",
    "from sklearn.model_selection import train_test_split\n",
    "from sklearn.naive_bayes import MultinomialNB\n",
    "from sklearn.metrics import accuracy_score\n",
    "from sklearn.metrics import accuracy_score, classification_report\n",
    "import os"
   ]
  },
  {
   "cell_type": "code",
   "execution_count": 2,
   "metadata": {},
   "outputs": [],
   "source": [
    "# Variáveis Globais\n",
    "diretorio = r'C:\\Users\\natan\\OneDrive\\Documentos\\ProjetosPROG\\Jupyter\\WritingML\\Escritas EF-EM'\n",
    "diretorio_IA = r'C:\\Users\\natan\\OneDrive\\Documentos\\ProjetosPROG\\Jupyter\\WritingML\\Modelos de Linguagem Amplo'"
   ]
  },
  {
   "cell_type": "code",
   "execution_count": 3,
   "metadata": {},
   "outputs": [
    {
     "name": "stdout",
     "output_type": "stream",
     "text": [
      "Acurácia do modelo: 1.00\n",
      "\n",
      "Relatório de Classificação:\n",
      "               precision    recall  f1-score   support\n",
      "\n",
      "          IA       1.00      1.00      1.00         2\n",
      "      humano       1.00      1.00      1.00         1\n",
      "\n",
      "    accuracy                           1.00         3\n",
      "   macro avg       1.00      1.00      1.00         3\n",
      "weighted avg       1.00      1.00      1.00         3\n",
      "\n"
     ]
    }
   ],
   "source": [
    "# Função para ler textos e retornar as features e rótulos\n",
    "def ler_textos(diretorio, rotulo):\n",
    "    arquivos = os.listdir(diretorio)\n",
    "    vectorizer = CountVectorizer()\n",
    "    textos = []\n",
    "\n",
    "    for arquivo in arquivos:\n",
    "        if arquivo.endswith('.txt'):\n",
    "            with open(os.path.join(diretorio, arquivo), 'r') as f:\n",
    "                conteudo = f.read()\n",
    "                textos.append((conteudo, rotulo))\n",
    "\n",
    "    return textos\n",
    "\n",
    "# Ler textos feitos por humanos\n",
    "textos_humano = ler_textos(diretorio, 'humano')\n",
    "\n",
    "# Ler textos feitos pela IA\n",
    "textos_IA = ler_textos(diretorio_IA, 'IA')\n",
    "\n",
    "# Juntar os textos e rótulos\n",
    "textos_total = textos_humano + textos_IA\n",
    "X_total = [texto[0] for texto in textos_total]\n",
    "y_total = [texto[1] for texto in textos_total]\n",
    "\n",
    "# Dividir o conjunto de dados em treino e teste\n",
    "X_train, X_test, y_train, y_test = train_test_split(X_total, y_total, test_size=0.2, random_state=42)\n",
    "\n",
    "# Criar um vetorizador e transformar os textos em vetores\n",
    "vectorizer = CountVectorizer()\n",
    "X_train_vectorized = vectorizer.fit_transform(X_train)\n",
    "X_test_vectorized = vectorizer.transform(X_test)\n",
    "\n",
    "# Criar o modelo Naive Bayes\n",
    "model = MultinomialNB()\n",
    "\n",
    "# Treinar o modelo\n",
    "model.fit(X_train_vectorized, y_train)\n",
    "\n",
    "# Fazer previsões no conjunto de teste\n",
    "y_pred = model.predict(X_test_vectorized)\n",
    "\n",
    "# Avaliar a precisão do modelo\n",
    "accuracy = accuracy_score(y_test, y_pred)\n",
    "print(f'Acurácia do modelo: {accuracy:.2f}')\n",
    "\n",
    "# Imprimir o relatório de classificação\n",
    "print('\\nRelatório de Classificação:\\n', classification_report(y_test, y_pred))\n"
   ]
  },
  {
   "cell_type": "code",
   "execution_count": 7,
   "metadata": {},
   "outputs": [
    {
     "name": "stdout",
     "output_type": "stream",
     "text": [
      "Com base na adaptação do modelo de ML, esse texto se encaixa nos dados de textos escritos por humanos.\n"
     ]
    }
   ],
   "source": [
    "# TESTE 1 - TEXTO HUMANO\n",
    "\n",
    "# Suponha que este é o seu novo texto\n",
    "novo_texto1 = \"\"\"\n",
    "A construção dos feudos, muros que delimitavam uma determinada área no período da Idade Média, segregou milhares de pessoas e impossibilitou o acesso a bens que somente a nobreza podia usufruir. Semelhante a essa época, no contexto brasileiro contemporâneo, o cinema é um dos inúmeros meios de democratizar a cultura, mas ainda é \"feudalizado\", já que grande parte da população continua alheia a esse serviço . Então, tanto a concentração das salas de teledramaturgia em regiões mais desenvolvidas economicamente, quanto os exorbitantes preços dos ingressos e alimentos, vendidos com exclusividade pela empresa proprietária, mutilam a cidadania e consagram importantes simbologias de poder.\n",
    "Nessa perspectiva, a cultura é imprescindível para a identidade de um povo e, indubitavelmente, o cinema é uma fundamental ferramenta de inclusão e de propagação de valores sociais. Entretanto, de acordo com o geógrafo Milton Santos, no texto \"Cidadanias Mutiladas\", a democracia, extremamente necessária para a fundamentação cultural do indivíduo, só é efetiva quando atinge a totalidade do corpo social, ou seja, na medida em que os direitos são universais e desfrutados por todos os cidadãos. Dessa maneira, a concentração das salas de cinemas em áreas com alto desenvolvimento econômico e o alheamento de milhares de pessoas a esse serviço provam que não há democratização do acesso à cultura cinematográfica no Brasil, marginalizando grande parcela da sociedade desprovida de recursos financeiros.\n",
    "Outrossim, os preços abusivos de ingressos, a divisão das salas em categorias de conforto e a proibição de entrada de bebidas e alimentos, que não sejam vendidos no estabelecimento, dividem, ainda mais, a sociedade. Isso pode ser explicado pelo teórico Pierre Bourdieu, o qual afirma que todas as minúcias de um indivíduo constituem simbologias que são constantemente analisadas pelo corpo social, isto é, o poder de compra, as características pessoais e o acesso a bens e serviços refletem quem é o homem para outrem. Dessa forma, o alto custo praticado pelas redes cinematográficas violenta simbolicamente aqueles que não conseguem contemplar as grandes telas e aumenta a desigualdade.\n",
    "Portanto, cabe à iniciativa privada, em parceria com os estados e municípios, promover a interiorização das salas de teledramaturgia, por meio da construção de novos empreendimentos em áreas distantes dos pólos econômicos e da redução dos custos para o consumidor de baixa renda, incentivando, então, a cultura mais democrática. Além disso, é responsabilidade da Ancine, Agência Nacional de Cinema, estabelecer um canal de comunicação mais efetivo com o telespectador, por intermédio de aplicativos e das redes sociais interativas, para que denúncias e reclamações sobre preços abusivos possam ser realizadas. Como efeito social, a democratização do cinema no Brasil será uma realidade, destruindo, assim, barreiras e \"feudos\" sociais.\n",
    "\"\"\"\n",
    "\n",
    "# Transforma o novo texto em um vetor usando o mesmo vetorizador\n",
    "novo_texto_vectorized = vectorizer.transform([novo_texto1])\n",
    "\n",
    "# Usa o modelo para fazer uma previsão\n",
    "predicao = model.predict(novo_texto_vectorized)\n",
    "\n",
    "# Printa na tela a previsão\n",
    "if predicao[0] == 'humano':\n",
    "    print(\"Com base na adaptação do modelo de ML, esse texto se encaixa nos dados de textos escritos por humanos.\")\n",
    "else:\n",
    "    print(\"Com base na adaptação do modelo de ML, esse texto se encaixa nos dados de textos escritos por uma máquina.\")\n"
   ]
  },
  {
   "cell_type": "code",
   "execution_count": 8,
   "metadata": {},
   "outputs": [
    {
     "name": "stdout",
     "output_type": "stream",
     "text": [
      "Com base na adaptação do modelo de ML, esse texto se encaixa nos dados de textos escritos por uma máquina.\n"
     ]
    }
   ],
   "source": [
    "# TESTE 2 - TEXTO MÁQUINA\n",
    "\n",
    "# Suponha que este é o seu novo texto\n",
    "novo_texto2 = \"\"\"\n",
    "A democratização do acesso ao cinema no Brasil é um desafio que envolve diversos aspectos socioculturais. A arte, em suas diferentes manifestações, desempenha um papel fundamental nesse processo, influenciando a forma como as pessoas enxergam e consomem o cinema. Nesta redação, exploraremos como a arte, em suas diversas formas, contribui para tornar o cinema mais acessível à população brasileira.\n",
    "A música é uma linguagem universal que transcende barreiras culturais e sociais. No contexto da democratização do acesso ao cinema, a trilha sonora desempenha um papel crucial. Compositores brasileiros têm enriquecido a experiência cinematográfica, criando músicas que refletem a diversidade do país. A música popular brasileira, por exemplo, tem sido incorporada em trilhas sonoras de filmes, conectando o público a elementos familiares e criando uma identidade cultural única. Essa integração da música com o cinema não apenas enriquece a produção cinematográfica nacional, mas também atrai públicos diversos, contribuindo para a democratização do acesso.\n",
    "A democratização do acesso ao cinema no Brasil também está intimamente ligada à arte visual. O desenvolvimento de técnicas visuais inovadoras, inspiradas em movimentos artísticos locais, tem o potencial de atrair um público mais amplo. Diretores e cineastas brasileiros têm explorado a riqueza da cultura visual do país em suas produções, incorporando elementos de pintura, fotografia e design. Ao fazer isso, não apenas enriquecem esteticamente o cinema, mas também aproximam a sétima arte de diferentes estratos sociais, tornando-a mais acessível e relevante para a população.\n",
    "Em síntese, a democratização do acesso ao cinema no Brasil é um processo complexo que demanda a integração de diversas expressões artísticas. A música e a arte visual desempenham papéis cruciais nesse cenário, conectando o cinema à diversidade cultural do país. Ao incorporar elementos locais, os cineastas não apenas enriquecem suas produções, mas também tornam o cinema mais acessível a diferentes públicos, contribuindo para a construção de uma identidade cinematográfica nacional.\n",
    "\"\"\"\n",
    "\n",
    "# Transforma o novo texto em um vetor usando o mesmo vetorizador\n",
    "novo_texto_vectorized = vectorizer.transform([novo_texto2])\n",
    "\n",
    "# Usa o modelo para fazer uma previsão\n",
    "predicao = model.predict(novo_texto_vectorized)\n",
    "\n",
    "# Printa na tela a previsão\n",
    "if predicao[0] == 'humano':\n",
    "    print(\"Com base na adaptação do modelo de ML, esse texto se encaixa nos dados de textos escritos por humanos.\")\n",
    "else:\n",
    "    print(\"Com base na adaptação do modelo de ML, esse texto se encaixa nos dados de textos escritos por uma máquina.\")\n"
   ]
  },
  {
   "cell_type": "code",
   "execution_count": null,
   "metadata": {},
   "outputs": [],
   "source": []
  }
 ],
 "metadata": {
  "kernelspec": {
   "display_name": "Python 3",
   "language": "python",
   "name": "python3"
  },
  "language_info": {
   "codemirror_mode": {
    "name": "ipython",
    "version": 3
   },
   "file_extension": ".py",
   "mimetype": "text/x-python",
   "name": "python",
   "nbconvert_exporter": "python",
   "pygments_lexer": "ipython3",
   "version": "3.11.6"
  }
 },
 "nbformat": 4,
 "nbformat_minor": 2
}
