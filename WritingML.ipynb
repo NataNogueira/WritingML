{
 "cells": [
  {
   "cell_type": "code",
   "execution_count": 1,
   "metadata": {},
   "outputs": [],
   "source": [
    "# Bibliotecas que serão utilizadas neste notebook\n",
    "import os\n"
   ]
  },
  {
   "cell_type": "code",
   "execution_count": 2,
   "metadata": {},
   "outputs": [],
   "source": [
    "# Variáveis Globais\n",
    "diretorio = r'C:\\Users\\natan\\OneDrive\\Documentos\\ProjetosPROG\\Jupyter\\WritingML\\Escritas EF-EM'\n",
    "diretorio_IA = r'C:\\Users\\natan\\OneDrive\\Documentos\\ProjetosPROG\\Jupyter\\WritingML\\Modelos de Linguagem Amplo'"
   ]
  },
  {
   "cell_type": "code",
   "execution_count": 3,
   "metadata": {},
   "outputs": [
    {
     "name": "stdout",
     "output_type": "stream",
     "text": [
      "O poeta modernista Oswald de Andrade relata, em \"Erro de Português\", que, sob um dia de chuva, o índio foi vestido pelo português - uma denúncia à aculturação sofrida pelos povos indígenas com a chegada dos europeus ao território brasileiro. Paralelamente, no Brasil atual, há a manutenção de práticas prejudiciais não só aos silvícolas, mas também aos demais povos e comunidades tradicionais, como os pescadores. Com efeito, atuam como desafios para a valorização desses grupos a educação deficiente acerca do tema e a ausência do desenvolvimento sustentável.\n",
      "Diante desse cenário, existe a falta da promoção de um ensino eficiente sobre as populações tradicionais. Sob esse viés, as escolas, ao abordarem tais povos por meio de um ponto de vista histórico eurocêntrico, enraízam no imaginário estudantil a imagem de aborígenes cujas vivências são marcadas pela defasagem tecnológica. A exemplo disso, há o senso comum de que os indígenas são selvagens, alheios aos benefícios do mundo moderno, o que, consequentemente, gera um preconceito, manifestado em indagações como “o índio tem ‘smartphone’ e está lutando pela demarcação de terras?” – ideia essa que deslegitima a luta dos silvícolas. Entretanto, de acordo com a Teoria do Indigenato, defendida pelo ministro Edson Fachin, do Supremo Tribunal Federal, o direito dos povos tradicionais à terra é inato, sendo anterior, até, à criação do Estado brasileiro. Dessa forma, por não ensinarem tal visão, os colégios fometam a desvalorização das comunidades tradicionais, mediante o desenvolvimento de um pensamento discriminatório nos alunos.\n",
      "Além disso, outro desafio para o reconhecimento desses indivíduos é a carência do progresso sustentável. Nesse contexto, as entidades mercadológicas que atuam nas áreas ocupadas pelas populações tradicionais não necessariamente se preocupam com a sua preservação, comportamento no qual se valoriza o lucro em detrimento da harmonia entre a natureza e as comunidades em questão. À luz disso, há o exemplo do que ocorre aos pescadores, cujos rios são contaminados devido ao garimpo ilegal, extremamente comum na Região Amazônica. Por conseguinte, o povo que sobrevive a partir dessa atividade é prejudicado pelo que a Biologia chama de magnificação trófica, quando metais pesados acumulam-se nos animais de uma cadeia alimentar – provocando a morte de peixes e a infecção de humanos por mercúrio. Assim, as indústrias que usam os recursos naturais de forma irresponsável não promovem o desenvolvimento sustentável e agem de maneira nociva às sociedades tradicionais.\n",
      "Portanto, é essencial que o governo mitigue os desafios supracitados. Para isso, o Ministério da Educação – órgão responsável pelo estabelecimento da grade curricular das escolas – deve educar os alunos a respeito dos empecilhos à preservação dos indígenas, por meio da inserção da matéria “Estudos Indigenistas” no ensino básico, a fim de explicar o contexto dos silvícolas e desconstruir o preconceito. Ademais, o Ministério do Desenvolvimento – pasta instituidora da Política Nacional de Desenvolvimento Sustentável dos Povos e Comunidades Tradicionais – precisa fiscalizar as atividades econômicas danosas às sociedades vulneráveis, visando à valorização de tais pessoas, mediante canais de denúncias.\n",
      "\n",
      "\n",
      "\n",
      "Na segunda metade do século XVIll, os escritores da primeira fase do Romantismo elevaram, de maneira completamente idealizada, o indígena e a natureza à condição de elementos personificadores da beleza e do poder da pátria (quando, na verdade, os nativos continuaram vítimas de uma exploração desumana no momento em questão). Sem desconsiderar o lapso temporal, hoje nota-se que, apesar das conquistas legais e jurídicas alcançadas, a exaltação dos indígenas e dos demais para tradicionais não se efetivou no cenário brasileiro e continua restrita às prosas e poesias do movimento romântico. A partir desse contexto, é imprescindível compreender os maiores desafios para uma plena valorização das comunidades tradicionais no Brasil.\n",
      "Nesse sentido, é inegável que o escasso interesse político em assegurar o respeito à cultura e ao modo de vida das populações tradicionais frustra a valorização desses indivíduos. Isso acontece, porque, como já estudado pelo sociólogo Boaventura de Sousa Santos, há no Brasil uma espécie de “Colonialismo Insidioso”, isto é, a manutenção de estruturas coloniais perversas de dominação, que se disfarça em meio a avanços sociais, mas mantém a camada mais vulnerável da sociedade explorada e negligenciada. Nessa perspectiva, percebe-se o quanto a invisibilização dos povos tradicionais é proposital e configura-se como uma estratégia política para permanecer no poder e fortalecer situações de desigualdade e injustiça social. Dessa forma, tem-se um país que, além de naturalizar as mais diversas invasões possessórias nos territórios dos povos tradicionais, não respeita a forma de viver e produzir dessas populações, o que comprova uma realidade destoante das produções literárias do Romantismo.\n",
      "Ademais, é nítido que as dificuldades de promover um verdadeiro reconhecimento e valorização das comunidades tradicionais ascendem à medida que raízes preconceituosas são mantidas. De fato, com base nos estudos da filósofa Sueli Carneiro, é perceptível a existência de um “Epistemicídio Brasileiro” na sociedade atual; ou seja, há uma negação da cultura e dos saberes de grupos subalternizados, a qual é ainda mais reforçada por setores midiáticos. Em outras palavras, apesar da complexidade de cultura dos povos tradicionais, o Brasil assume contornos monoculturais, um vez que inferioriza e “sepulta” os saberes de tais grupos, cujas relações e produções, baseadas na relação harmônica com a natureza, destoam do modelo ocidental, capitalista e elitista. Logo, devido a um notório preconceito, os indivíduos tradicionais permanecem excluídos socialmente e com seus direitos negligenciados.\n",
      "Portanto, faz-se necessário superar os desafios que impedem a vilanização das comunidades tradicionais no Brasil. Para isso, urge que o Poder Executivo - na esfera federal - amplie a verba destinada a órgãos fiscalizadores que visem garantir os direitos dos povos tradicionais e a preservação de seus territórios e costumes. Tal ação deve ser efetivada pela implantação de um Projeto Nacional de Valorização dos Povos Tradicionais, de modo a articular, em conjunto com a mídia socialmente engajada, palestras e debates que informem a importância de tais grupos em todos os 5570 municípios brasileiros. Isso deve ser feito a fim de combater os preconceitos e promover o respeito às populações tradicionais. Afinal, o intuito é que elas sejam tão valorizadas quanto os índios na primeira fase da literatura romântica.\n",
      "\n",
      "\n",
      "Historicamente, a partir da implementação das missões jesuíticas no Brasil colonial, os povos nativos tiveram suas tradições suprimidas e o seu conhecimento acerca das peculiaridades territoriais menosprezado. Na contemporaneidade, a importância dessas populações configura um fator indispensável à compreensão da diversidade étnica do nosso país. Contudo, ainda persistem desafios à valorização dessas comunidades, o que interfere na preservação de seus saberes. Logo, urgem medidas estatais que promovam melhorias nesse cenário.\n",
      "Sob esse viés, é válido destacar a fundamentabilidade dos povos tradicionais como detentores de pluralidade histórica e cultural, que proporciona a disseminação de uma vasta sabedoria na sociedade. Nesse sentido, o Instituto do Patrimônio Histórico e Artístico Nacional (Iphan) afirma as heranças tradicionais desses grupos como constituintes do patrimônio imaterial brasileiro. Dessa forma, sabe-se que a contribuição desses indivíduos para a formação intelectual do corpo social engloba práticas de sustentabilidade, agricultura familiar e, inclusive, confere a eles uma participação efetiva na economia do país. Assim, evidencia-se a extrema relevância dessas comunidades para a manutenção de conhecimentos diferenciados, bem como para a evolução da coletividade.\n",
      "Entretanto, a falta de representantes políticos eleitos para essa classe ocasiona a desvalorização das suas necessidades sociais, que não são atendidas pelos demais legisladores. Nesse contexto, a Constituição Federal assegura direitos inalienáveis a todos os cidadãos brasileiros, abordando o dever de inclusão de povos tradicionais nas decisões públicas. Desse modo, compreende-se que a existência de obstáculos para o reconhecimento da importância de populações nativas se relaciona à ineficácia na incorporação de representantes que sejam, de fato, interessados na perpetuação de saberes e técnicas ancestrais propagados para esses grupos. Sendo assim, comprova-se a ocorrência de um grave problema no âmbito coletivo, o qual impede a garantia plena dos direitos básicos dessas pessoas.\n",
      "Diante do exposto, denota-se a urgência de propostas governamentais que alterem esse quadro. Portanto, cabe ao Estado – cuja função principal é a proteção dos direitos de seus cidadãos – a implantação de mudanças no sistema eleitoral, por meio da criação de cotas rígidas para a eleição de políticos oriundos de localidades nativas. Tal reestruturação terá como finalidade a valorização de povos tradicionais, reconhecendo a sua fundamentalidade na composição histórica e cultural da sociedade brasileira.\n",
      "\n",
      "\n"
     ]
    }
   ],
   "source": [
    "# Função para ler textos feitos por vestibulandos\n",
    "def ler_arquivos_vestibulandos(diretorio):\n",
    "\n",
    "    # Listando todos os arquivos na pasta\n",
    "    arquivos = os.listdir(diretorio)\n",
    "\n",
    "    # Percorrendo a listagem\n",
    "    for arquivo in arquivos:\n",
    "\n",
    "        # Verifica se é .txt\n",
    "        if arquivo.endswith('.txt'):\n",
    "\n",
    "            with open(os.path.join(diretorio, arquivo), 'r') as f:\n",
    "\n",
    "                conteudo = f.read()\n",
    "                print(conteudo)\n",
    "\n",
    "            \n",
    "# Comando pra mostrar resultado\n",
    "ler_arquivos_vestibulandos(diretorio)"
   ]
  },
  {
   "cell_type": "code",
   "execution_count": 4,
   "metadata": {},
   "outputs": [
    {
     "name": "stdout",
     "output_type": "stream",
     "text": [
      "A valorização das comunidades e povos tradicionais no Brasil é um tema urgente e relevante, que atravessa diversas esferas da sociedade. Nesse contexto, a arte emerge como um poderoso instrumento capaz de sensibilizar e mobilizar a sociedade para a compreensão da importância dessas comunidades. A expressão artística, seja ela visual, performática ou musical, tem o potencial de transcender barreiras culturais, promovendo a empatia e destacando as riquezas das tradições que muitas vezes são marginalizadas.\n",
      "Na pintura, artistas contemporâneos têm explorado temas ligados às comunidades tradicionais, oferecendo uma visão crítica sobre os desafios que enfrentam. Obras que retratam as belezas naturais dessas regiões e a resiliência de seus habitantes contribuem para a conscientização pública. Além disso, instalações artísticas em espaços urbanos podem funcionar como espaços de diálogo, convidando as pessoas a refletirem sobre a necessidade de preservação cultural e ambiental.\n",
      "O cinema, por sua vez, desempenha um papel crucial na narrativa dessas comunidades. Documentários que exploram o cotidiano, as tradições e os desafios enfrentados por esses povos são ferramentas valiosas para ampliar a compreensão da sociedade. Produções como \"A Lei da Água\", dirigido por André D'Elia, que aborda a questão da água e as comunidades tradicionais, têm o poder de educar e sensibilizar, influenciando debates e políticas públicas.\n",
      "Em suma, a arte emerge como um agente transformador na valorização das comunidades e povos tradicionais no Brasil. Através da expressão artística, é possível romper com estereótipos, disseminar conhecimento e promover a preservação cultural e ambiental. Artistas e cineastas têm o papel crucial de serem porta-vozes dessas comunidades, contribuindo para a construção de uma sociedade mais justa e inclusiva.\n",
      "\n",
      "\n",
      "Os desafios enfrentados pelas comunidades e povos tradicionais no Brasil demandam uma abordagem multifacetada para promover sua valorização. Nesse contexto, a música emerge como uma expressão cultural capaz de transmitir a identidade, as lutas e as conquistas desses grupos. Ao explorar a riqueza musical dessas comunidades, é possível não apenas preservar tradições, mas também despertar a consciência da sociedade para as adversidades que enfrentam.\n",
      "A música tradicional, muitas vezes transmitida oralmente, é uma forma de resistência e celebração da cultura. Grupos folclóricos, como os maracatus em Pernambuco ou as congadas em Minas Gerais, preservam ritmos e danças que remontam a séculos. Incorporar essas expressões musicais em eventos culturais e festivais não só promove a diversidade, mas também proporciona uma plataforma para que essas comunidades compartilhem suas narrativas.\n",
      "Além da música tradicional, artistas contemporâneos têm utilizado gêneros mais populares para abordar questões sociais e ambientais. Letras que narram a relação dessas comunidades com a terra, as águas e a biodiversidade contribuem para conscientizar o público sobre a importância da preservação ambiental e cultural. Projetos musicais colaborativos entre artistas urbanos e comunidades tradicionais têm o potencial de criar pontes entre diferentes realidades.\n",
      "A música, como manifestação cultural, revela-se uma ferramenta poderosa na valorização das comunidades tradicionais no Brasil. Ao reconhecer a diversidade de expressões musicais, desde as tradições ancestrais até as criações contemporâneas, a sociedade pode construir pontes de entendimento e solidariedade. Ouvir as vozes musicais dessas comunidades é um passo significativo na busca por uma valorização mais justa e inclusiva.\n",
      "\n",
      "\n",
      "A valorização das comunidades e povos tradicionais no Brasil é um desafio que transcende fronteiras geográficas e sociais. A interseção entre cinema e literatura oferece uma janela única para compreender as complexidades dessas comunidades, destacando suas lutas e contribuições para a riqueza cultural do país. Explorar narrativas cinematográficas e literárias é fundamental para sensibilizar a sociedade sobre a importância de preservar e valorizar esses grupos.\n",
      "O cinema, através de obras como \"Cabra Marcado para Morrer\" de Eduardo Coutinho, tem o poder de resgatar memórias e dar voz às comunidades rurais. Documentários que mesclam realidade e ficção proporcionam uma visão íntima das experiências desses povos, gerando empatia e promovendo a compreensão. Além disso, adaptações literárias para o cinema, como \"O Quinze\" de Rachel de Queiroz, abordam a vida nas regiões mais áridas do país, revelando os desafios enfrentados pelas comunidades locais.\n",
      "A literatura, por sua vez, oferece um mergulho profundo nas histórias e mitos dessas comunidades. Autores como Conceição Evaristo, que retrata a vivência de comunidades quilombolas, proporcionam uma perspectiva única sobre a identidade e a resistência. Incentivar a leitura de obras que exploram essas temáticas é uma maneira eficaz de promover a empatia e a compreensão da riqueza cultural dessas comunidades.\n",
      "Em síntese, a intersecção entre cinema e literatura oferece uma abordagem abrangente para enfrentar os desafios na valorização das comunidades e povos tradicionais no Brasil. Ao contar suas histórias de maneira autêntica e cativante, essas formas de expressão cultural têm o potencial de moldar a percepção da sociedade e inspirar ações concretas em prol da preservação e valorização desses grupos tão essenciais para a diversidade cultural brasileira.\n",
      "\n",
      "\n"
     ]
    }
   ],
   "source": [
    "# Função para ler textos feitos pela IA\n",
    "def ler_arquivos_IA(diretorio_IA):\n",
    "\n",
    "    # Listando todos os arquivos na pasta\n",
    "    arquivos = os.listdir(diretorio_IA)\n",
    "\n",
    "    # Percorrendo a listagem\n",
    "    for arquivo in arquivos:\n",
    "\n",
    "        # Verifica se é .txt\n",
    "        if arquivo.endswith('.txt'):\n",
    "\n",
    "            with open(os.path.join(diretorio_IA, arquivo), 'r') as f:\n",
    "                \n",
    "                conteudo = f.read()\n",
    "                print(conteudo)\n",
    "\n",
    "            \n",
    "# Comando pra mostrar resultado\n",
    "ler_arquivos_IA(diretorio_IA)"
   ]
  },
  {
   "cell_type": "code",
   "execution_count": null,
   "metadata": {},
   "outputs": [],
   "source": []
  }
 ],
 "metadata": {
  "kernelspec": {
   "display_name": "Python 3",
   "language": "python",
   "name": "python3"
  },
  "language_info": {
   "codemirror_mode": {
    "name": "ipython",
    "version": 3
   },
   "file_extension": ".py",
   "mimetype": "text/x-python",
   "name": "python",
   "nbconvert_exporter": "python",
   "pygments_lexer": "ipython3",
   "version": "3.11.6"
  }
 },
 "nbformat": 4,
 "nbformat_minor": 2
}
