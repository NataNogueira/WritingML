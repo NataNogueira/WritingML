{
 "cells": [
  {
   "cell_type": "code",
   "execution_count": 14,
   "metadata": {},
   "outputs": [],
   "source": [
    "# Bibliotecas que serão utilizadas neste notebook\n",
    "from sklearn.feature_extraction.text import CountVectorizer\n",
    "from sklearn.model_selection import train_test_split\n",
    "from sklearn.naive_bayes import MultinomialNB\n",
    "from sklearn.metrics import accuracy_score\n",
    "from sklearn.metrics import accuracy_score, classification_report\n",
    "import os"
   ]
  },
  {
   "cell_type": "code",
   "execution_count": 16,
   "metadata": {},
   "outputs": [],
   "source": [
    "# Variáveis Globais\n",
    "diretorio = r'C:\\Users\\natan\\OneDrive\\Documentos\\ProjetosPROG\\Jupyter\\WritingML\\Escritas EF-EM'\n",
    "diretorio_IA = r'C:\\Users\\natan\\OneDrive\\Documentos\\ProjetosPROG\\Jupyter\\WritingML\\Modelos de Linguagem Amplo'"
   ]
  },
  {
   "cell_type": "code",
   "execution_count": 17,
   "metadata": {},
   "outputs": [
    {
     "name": "stdout",
     "output_type": "stream",
     "text": [
      "Acurácia do modelo: 1.00\n",
      "\n",
      "Relatório de Classificação:\n",
      "               precision    recall  f1-score   support\n",
      "\n",
      "      humano       1.00      1.00      1.00         2\n",
      "\n",
      "    accuracy                           1.00         2\n",
      "   macro avg       1.00      1.00      1.00         2\n",
      "weighted avg       1.00      1.00      1.00         2\n",
      "\n"
     ]
    }
   ],
   "source": [
    "# Função para ler textos e retornar as features e rótulos\n",
    "def ler_textos(diretorio, rotulo):\n",
    "    arquivos = os.listdir(diretorio)\n",
    "    vectorizer = CountVectorizer()\n",
    "    textos = []\n",
    "\n",
    "    for arquivo in arquivos:\n",
    "        if arquivo.endswith('.txt'):\n",
    "            with open(os.path.join(diretorio, arquivo), 'r') as f:\n",
    "                conteudo = f.read()\n",
    "                textos.append((conteudo, rotulo))\n",
    "\n",
    "    return textos\n",
    "\n",
    "# Ler textos feitos por humanos\n",
    "textos_humano = ler_textos(diretorio, 'humano')\n",
    "\n",
    "# Ler textos feitos pela IA\n",
    "textos_IA = ler_textos(diretorio_IA, 'IA')\n",
    "\n",
    "# Juntar os textos e rótulos\n",
    "textos_total = textos_humano + textos_IA\n",
    "X_total = [texto[0] for texto in textos_total]\n",
    "y_total = [texto[1] for texto in textos_total]\n",
    "\n",
    "# Dividir o conjunto de dados em treino e teste\n",
    "X_train, X_test, y_train, y_test = train_test_split(X_total, y_total, test_size=0.2, random_state=42)\n",
    "\n",
    "# Criar um vetorizador e transformar os textos em vetores\n",
    "vectorizer = CountVectorizer()\n",
    "X_train_vectorized = vectorizer.fit_transform(X_train)\n",
    "X_test_vectorized = vectorizer.transform(X_test)\n",
    "\n",
    "# Criar o modelo Naive Bayes\n",
    "model = MultinomialNB()\n",
    "\n",
    "# Treinar o modelo\n",
    "model.fit(X_train_vectorized, y_train)\n",
    "\n",
    "# Fazer previsões no conjunto de teste\n",
    "y_pred = model.predict(X_test_vectorized)\n",
    "\n",
    "# Avaliar a precisão do modelo\n",
    "accuracy = accuracy_score(y_test, y_pred)\n",
    "print(f'Acurácia do modelo: {accuracy:.2f}')\n",
    "\n",
    "# Imprimir o relatório de classificação\n",
    "print('\\nRelatório de Classificação:\\n', classification_report(y_test, y_pred))\n"
   ]
  }
 ],
 "metadata": {
  "kernelspec": {
   "display_name": "Python 3",
   "language": "python",
   "name": "python3"
  },
  "language_info": {
   "codemirror_mode": {
    "name": "ipython",
    "version": 3
   },
   "file_extension": ".py",
   "mimetype": "text/x-python",
   "name": "python",
   "nbconvert_exporter": "python",
   "pygments_lexer": "ipython3",
   "version": "3.11.6"
  }
 },
 "nbformat": 4,
 "nbformat_minor": 2
}
